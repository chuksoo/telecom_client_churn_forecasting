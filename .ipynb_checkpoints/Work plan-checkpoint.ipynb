{
 "cells": [
  {
   "cell_type": "markdown",
   "metadata": {},
   "source": [
    "### Work Plan"
   ]
  },
  {
   "cell_type": "code",
   "execution_count": null,
   "metadata": {},
   "outputs": [],
   "source": [
    "import numpy as np\n",
    "import pandas as pd\n",
    "\n",
    "# matplotlib for visualization\n",
    "import matplotlib.pyplot as plt\n",
    "%matplotlib inline\n",
    "\n",
    "# seaborn for statistical data visualization\n",
    "import seaborn as sns"
   ]
  },
  {
   "cell_type": "code",
   "execution_count": null,
   "metadata": {},
   "outputs": [],
   "source": [
    "# read the data\n",
    "\n",
    "try:\n",
    "    contract_data = pd.read_csv('C:/Users/hotty/Desktop/Practicum by Yandex/Projects/Final Project/final_provider/contract.csv')\n",
    "    internet_data = pd.read_csv('C:/Users/hotty/Desktop/Practicum by Yandex/Projects/Final Project/final_provider/internet.csv')\n",
    "    personal_data = pd.read_csv('C:/Users/hotty/Desktop/Practicum by Yandex/Projects/Final Project/final_provider/personal.csv')\n",
    "    phone_data = pd.read_csv('C:/Users/hotty/Desktop/Practicum by Yandex/Projects/Final Project/final_provider/phone.csv')\n",
    "except:\n",
    "    contract_data = pd.read_csv('https://code.s3.yandex.net/datasets/final_provider/contract.csv')\n",
    "    internet_data = pd.read_csv('https://code.s3.yandex.net/datasets/final_provider/internet.csv')\n",
    "    personal_data = pd.read_csv('https://code.s3.yandex.net/datasets/final_provider/personal.csv')\n",
    "    phone_data = pd.read_csv('https://code.s3.yandex.net/datasets/final_provider/phone.csv')\n",
    "print('Data has been read correctly!')"
   ]
  },
  {
   "cell_type": "code",
   "execution_count": null,
   "metadata": {},
   "outputs": [],
   "source": [
    "contract_data"
   ]
  },
  {
   "cell_type": "code",
   "execution_count": null,
   "metadata": {},
   "outputs": [],
   "source": []
  }
 ],
 "metadata": {
  "ExecuteTimeLog": [
   {
    "duration": 893,
    "start_time": "2021-12-23T17:21:43.550Z"
   },
   {
    "duration": 873,
    "start_time": "2021-12-23T17:21:46.061Z"
   },
   {
    "duration": 3638,
    "start_time": "2021-12-23T17:21:48.445Z"
   },
   {
    "duration": 4,
    "start_time": "2021-12-23T17:22:54.386Z"
   },
   {
    "duration": 3519,
    "start_time": "2021-12-23T17:22:55.150Z"
   },
   {
    "duration": 500,
    "start_time": "2021-12-23T17:23:44.819Z"
   },
   {
    "duration": 462,
    "start_time": "2021-12-23T17:27:12.009Z"
   },
   {
    "duration": 485,
    "start_time": "2021-12-23T17:27:46.068Z"
   }
  ],
  "kernelspec": {
   "display_name": "Python 3",
   "language": "python",
   "name": "python3"
  },
  "language_info": {
   "codemirror_mode": {
    "name": "ipython",
    "version": 3
   },
   "file_extension": ".py",
   "mimetype": "text/x-python",
   "name": "python",
   "nbconvert_exporter": "python",
   "pygments_lexer": "ipython3",
   "version": "3.8.5"
  },
  "toc": {
   "base_numbering": 1,
   "nav_menu": {},
   "number_sections": true,
   "sideBar": true,
   "skip_h1_title": true,
   "title_cell": "Table of Contents",
   "title_sidebar": "Contents",
   "toc_cell": false,
   "toc_position": {},
   "toc_section_display": true,
   "toc_window_display": false
  }
 },
 "nbformat": 4,
 "nbformat_minor": 4
}
